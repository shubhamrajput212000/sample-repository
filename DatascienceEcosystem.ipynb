{
 "cells": [
  {
   "cell_type": "markdown",
   "id": "80ac0828-1c1f-4cfa-ae00-c64082b87449",
   "metadata": {},
   "source": [
    "# Data Science Tools and Ecosystem\n"
   ]
  },
  {
   "cell_type": "markdown",
   "id": "f7257383-9352-48bb-81b3-c1134e50c3a6",
   "metadata": {},
   "source": [
    "# In this notebook, Data Science Tools and Ecosystem are summarized."
   ]
  },
  {
   "cell_type": "markdown",
   "id": "272b26d5-4929-4118-af28-9defe8a76ea6",
   "metadata": {},
   "source": [
    "# Some of the popular languages that Data scientists use are:\n",
    "# 1) Python\n",
    "# 2) R\n",
    "# 3) Julia"
   ]
  },
  {
   "cell_type": "markdown",
   "id": "3b412fc1-d897-4a1c-83c0-b9d9469b6f40",
   "metadata": {},
   "source": [
    "# Some of the commonly used libraries used by Data Scientists include:\n",
    "# 1) Pandas\n",
    "# 2) matplotlib\n",
    "# 3) Seaborn\n",
    "# 4) NumPy"
   ]
  },
  {
   "cell_type": "markdown",
   "id": "28da173a-f358-4187-b53d-93695d49b373",
   "metadata": {},
   "source": [
    "# Data Science Tools\n",
    "# - Programming languages(python, R,etc)\n",
    "# - Data Visualization(PowerBI, tableau, etc)\n",
    "# - Machine learning tools(TensorFlow,PyTorch, etc)"
   ]
  },
  {
   "cell_type": "markdown",
   "id": "2005730f-c2e9-43f5-865c-63000dc52c1b",
   "metadata": {},
   "source": [
    "# Below are a few examples of evaluating arithmetic expressions in Python"
   ]
  },
  {
   "cell_type": "markdown",
   "id": "8cb60837-3ab6-48dc-b9dd-b123902d787f",
   "metadata": {},
   "source": [
    "# This a simple arithmetic expression to multiply then add integers\n"
   ]
  },
  {
   "cell_type": "code",
   "execution_count": 1,
   "id": "5f2751bb-4156-4189-9944-2efa7b9f06ff",
   "metadata": {},
   "outputs": [
    {
     "name": "stdout",
     "output_type": "stream",
     "text": [
      "17\n"
     ]
    }
   ],
   "source": [
    "a= (3*4) + 5\n",
    "print(a)\n"
   ]
  },
  {
   "cell_type": "markdown",
   "id": "6290cb8f-b28d-45ba-83e8-3354e7665b5f",
   "metadata": {},
   "source": [
    "# This will convert 200 minutes to hours by dividing by 60\n"
   ]
  },
  {
   "cell_type": "code",
   "execution_count": 2,
   "id": "6557dec7-90e7-4b5f-91ef-e46f351debea",
   "metadata": {},
   "outputs": [
    {
     "name": "stdout",
     "output_type": "stream",
     "text": [
      "3.3333333333333335\n"
     ]
    }
   ],
   "source": [
    "a = 200\n",
    "b =200/60\n",
    "print(b)\n"
   ]
  },
  {
   "cell_type": "markdown",
   "id": "93d2598b-c53a-4bf2-9e24-75a81473c600",
   "metadata": {},
   "source": [
    "# **Objectives:**"
   ]
  },
  {
   "cell_type": "markdown",
   "id": "709c20c4-7326-4c5c-82cc-075cc9280458",
   "metadata": {},
   "source": [
    "# * Python\n",
    "# * R\n",
    "# * JavaScript"
   ]
  },
  {
   "cell_type": "markdown",
   "id": "da653d70-8d9f-4589-b16a-fa4c6ae1c718",
   "metadata": {},
   "source": [
    "# Author : Shubham Rajput"
   ]
  },
  {
   "cell_type": "code",
   "execution_count": null,
   "id": "758e4393-aa84-4146-9c33-a3d5f8e06183",
   "metadata": {},
   "outputs": [],
   "source": []
  }
 ],
 "metadata": {
  "kernelspec": {
   "display_name": "Python 3 (ipykernel)",
   "language": "python",
   "name": "python3"
  },
  "language_info": {
   "codemirror_mode": {
    "name": "ipython",
    "version": 3
   },
   "file_extension": ".py",
   "mimetype": "text/x-python",
   "name": "python",
   "nbconvert_exporter": "python",
   "pygments_lexer": "ipython3",
   "version": "3.13.3"
  }
 },
 "nbformat": 4,
 "nbformat_minor": 5
}
